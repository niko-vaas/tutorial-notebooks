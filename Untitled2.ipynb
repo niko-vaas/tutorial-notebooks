{
  "nbformat": 4,
  "nbformat_minor": 0,
  "metadata": {
    "colab": {
      "provenance": [],
      "authorship_tag": "ABX9TyPY/VyGAtBj/lw3ofNjPaAp",
      "include_colab_link": true
    },
    "kernelspec": {
      "name": "python3",
      "display_name": "Python 3"
    },
    "language_info": {
      "name": "python"
    }
  },
  "cells": [
    {
      "cell_type": "markdown",
      "metadata": {
        "id": "view-in-github",
        "colab_type": "text"
      },
      "source": [
        "<a href=\"https://colab.research.google.com/github/niko-vaas/tutorial-notebooks/blob/main/Untitled2.ipynb\" target=\"_parent\"><img src=\"https://colab.research.google.com/assets/colab-badge.svg\" alt=\"Open In Colab\"/></a>"
      ]
    },
    {
      "cell_type": "markdown",
      "source": [
        "Let's start by allowing access to our Google Drive, where I put the [RAVDESS dataset](https://zenodo.org/records/1188976#.XvD_1mj0nD4). You may get a popup asking for permission to modify your Google Drive.\n",
        "\n",
        "[Here](https://drive.google.com/drive/folders/1_2Wkg9Vpk34rjJbWV9IioalhBOHu1uG1?usp=sharing) is the modified edition I will uses on Google Drive."
      ],
      "metadata": {
        "id": "c5xCkzVjnmBy"
      }
    },
    {
      "cell_type": "code",
      "execution_count": 1,
      "metadata": {
        "colab": {
          "base_uri": "https://localhost:8080/"
        },
        "id": "bjXs5iEondKe",
        "outputId": "845f21f3-9828-4ed4-dc06-23b3adb9a40c"
      },
      "outputs": [
        {
          "output_type": "stream",
          "name": "stdout",
          "text": [
            "Mounted at /content/drive\n"
          ]
        }
      ],
      "source": [
        "from google.colab import drive\n",
        "drive.mount('/content/drive')"
      ]
    },
    {
      "cell_type": "markdown",
      "source": [
        "Now, let's import all libaries we need."
      ],
      "metadata": {
        "id": "0bw9JURTocHG"
      }
    },
    {
      "cell_type": "code",
      "source": [
        "import os\n",
        "import librosa\n",
        "import numpy as np\n",
        "import pandas as pd\n",
        "from sklearn.model_selection import train_test_split\n",
        "import tensorflow as tf"
      ],
      "metadata": {
        "id": "_U4jA5FGpVTJ"
      },
      "execution_count": 2,
      "outputs": []
    },
    {
      "cell_type": "markdown",
      "source": [
        "Now, we add our dataset and create a loader function that will load audio from my Google Drive and extract data from it."
      ],
      "metadata": {
        "id": "oYoKqatYpcEJ"
      }
    },
    {
      "cell_type": "code",
      "source": [
        "data_dir = '/content/drive/MyDrive/RAVDESS'\n",
        "\n",
        "def load_audio_file(file_path):\n",
        "  # Load the audio file\n",
        "  audio, sample_rate = librosa.load(file_path, sr=None)\n",
        "\n",
        "  # Extract features\n",
        "  features = librosa.feature.mfcc(y=audio, sr=sample_rate, n_mfcc=40)\n",
        "  return features"
      ],
      "metadata": {
        "id": "Xz5ltv-fp0U6"
      },
      "execution_count": 3,
      "outputs": []
    },
    {
      "cell_type": "markdown",
      "source": [
        "I'm going to generate a CSV of the file structure of the dataset. It's going to look like this:\n",
        "\n",
        "```\n",
        "| File Path | Emotion |\n",
        "| --------- | ------- |\n",
        "|audio1.wav | Happy   |\n",
        "...etc.\n",
        "```\n",
        "\n",
        "The following code loads it and makes it easy for us to use."
      ],
      "metadata": {
        "id": "qMAVABz1rdjj"
      }
    },
    {
      "cell_type": "code",
      "source": [
        "def generate_ravdess_csv(dir_list):\n",
        "  data = []\n",
        "  for parent_dir in dir_list:\n",
        "    for root, dirs, files in os.walk(parent_dir):\n",
        "      for file in files:\n",
        "        if file.endswith(\".wav\"):\n",
        "          filename = file[:-4]  # Remove .wav extension\n",
        "          parts = filename.split('-')\n",
        "          modality, vocal_channel, emotion, intensity, statement, repetition, actor = map(int, parts)\n",
        "\n",
        "        # Determine emotion and intensity label\n",
        "        emotion_map = {\n",
        "          1: \"neutral\",\n",
        "          2: \"calm\",\n",
        "          3: \"happy\",\n",
        "          4: \"sad\",\n",
        "          5: \"angry\",\n",
        "          6: \"fearful\",\n",
        "          7: \"disgust\",\n",
        "          8: \"surprised\"\n",
        "        }\n",
        "        intensity_map = {\n",
        "          1: \"\",\n",
        "          2: \"strongly \"\n",
        "        }\n",
        "        emotion_label = intensity_map[intensity] + emotion_map[emotion]\n",
        "\n",
        "        data.append({\n",
        "            \"file_path\": os.path.join(root, file),\n",
        "            \"emotion\": emotion_label\n",
        "        })\n",
        "\n",
        "  # Create DataFrame and return\n",
        "  df = pd.DataFrame(data)\n",
        "  return df\n",
        "\n",
        "if __name__ == \"__main__\":\n",
        "  dir_list = [\"/content/drive/My Drive/Corpora/RAVDESS/Actor_10\", \"/content/drive/My Drive/Corpora/RAVDESS/Actor_10\"]\n",
        "  df = generate_ravdess_csv(dir_list)\n",
        "  df.to_csv(\"ravdess_data.csv\", index=False)\n",
        "\n",
        "data = pd.read_csv('ravdess_data.csv')"
      ],
      "metadata": {
        "id": "EnSdTV95sDMF"
      },
      "execution_count": 4,
      "outputs": []
    },
    {
      "cell_type": "markdown",
      "source": [
        "Now, let's create the datasets to train our model. This step will take a while, as we are quite literally loading every single audio file in the >500 Mb folder."
      ],
      "metadata": {
        "id": "mmqt8OQAuj37"
      }
    },
    {
      "cell_type": "code",
      "source": [
        "X = []\n",
        "y = []\n",
        "\n",
        "for index, row in data.iterrows():\n",
        "  file_path = row['file_path']\n",
        "  emotion = row['emotion']\n",
        "  features = load_audio_file(file_path)\n",
        "  X.append(features)\n",
        "  y.append(emotion)\n",
        "\n",
        "X_train_padded = np.concatenate([np.expand_dims(x, axis=0) for x in X_train], axis=0)"
      ],
      "metadata": {
        "id": "Po5xUxEEJS7u",
        "colab": {
          "base_uri": "https://localhost:8080/",
          "height": 176
        },
        "outputId": "758c9908-a966-41df-8f9b-cdc1c0b7d55e"
      },
      "execution_count": 26,
      "outputs": [
        {
          "output_type": "error",
          "ename": "ValueError",
          "evalue": "all the input array dimensions except for the concatenation axis must match exactly, but along dimension 2, the array at index 0 has size 363 and the array at index 1 has size 338",
          "traceback": [
            "\u001b[0;31m---------------------------------------------------------------------------\u001b[0m",
            "\u001b[0;31mValueError\u001b[0m                                Traceback (most recent call last)",
            "\u001b[0;32m<ipython-input-26-4c201dbf5e24>\u001b[0m in \u001b[0;36m<cell line: 11>\u001b[0;34m()\u001b[0m\n\u001b[1;32m      9\u001b[0m   \u001b[0my\u001b[0m\u001b[0;34m.\u001b[0m\u001b[0mappend\u001b[0m\u001b[0;34m(\u001b[0m\u001b[0memotion\u001b[0m\u001b[0;34m)\u001b[0m\u001b[0;34m\u001b[0m\u001b[0;34m\u001b[0m\u001b[0m\n\u001b[1;32m     10\u001b[0m \u001b[0;34m\u001b[0m\u001b[0m\n\u001b[0;32m---> 11\u001b[0;31m \u001b[0mX_train_padded\u001b[0m \u001b[0;34m=\u001b[0m \u001b[0mnp\u001b[0m\u001b[0;34m.\u001b[0m\u001b[0mconcatenate\u001b[0m\u001b[0;34m(\u001b[0m\u001b[0;34m[\u001b[0m\u001b[0mnp\u001b[0m\u001b[0;34m.\u001b[0m\u001b[0mexpand_dims\u001b[0m\u001b[0;34m(\u001b[0m\u001b[0mx\u001b[0m\u001b[0;34m,\u001b[0m \u001b[0maxis\u001b[0m\u001b[0;34m=\u001b[0m\u001b[0;36m0\u001b[0m\u001b[0;34m)\u001b[0m \u001b[0;32mfor\u001b[0m \u001b[0mx\u001b[0m \u001b[0;32min\u001b[0m \u001b[0mX_train\u001b[0m\u001b[0;34m]\u001b[0m\u001b[0;34m,\u001b[0m \u001b[0maxis\u001b[0m\u001b[0;34m=\u001b[0m\u001b[0;36m0\u001b[0m\u001b[0;34m)\u001b[0m\u001b[0;34m\u001b[0m\u001b[0;34m\u001b[0m\u001b[0m\n\u001b[0m",
            "\u001b[0;31mValueError\u001b[0m: all the input array dimensions except for the concatenation axis must match exactly, but along dimension 2, the array at index 0 has size 363 and the array at index 1 has size 338"
          ]
        }
      ]
    },
    {
      "cell_type": "markdown",
      "source": [
        "Now, we split these sets into training and testing sets."
      ],
      "metadata": {
        "id": "cCp22qWAuyeZ"
      }
    },
    {
      "cell_type": "code",
      "source": [
        "X_train = np.stack(X_train, axis=0)  # Adjust axis if needed\n",
        "y = np.array(y) # we don't need to do this for X because it is already a numpy array.\n",
        "\n",
        "# Split data into training and testing sets\n",
        "X_train, X_test, y_train, y_test = train_test_split(X, y, test_size=0.2,\n",
        " random_state=42)"
      ],
      "metadata": {
        "colab": {
          "base_uri": "https://localhost:8080/",
          "height": 332
        },
        "id": "kovBA35Nu-QC",
        "outputId": "c2e688ad-d9cf-4f0e-bb2d-d70574823ae3"
      },
      "execution_count": 23,
      "outputs": [
        {
          "output_type": "error",
          "ename": "ValueError",
          "evalue": "all input arrays must have the same shape",
          "traceback": [
            "\u001b[0;31m---------------------------------------------------------------------------\u001b[0m",
            "\u001b[0;31mValueError\u001b[0m                                Traceback (most recent call last)",
            "\u001b[0;32m<ipython-input-23-01a078e777d3>\u001b[0m in \u001b[0;36m<cell line: 1>\u001b[0;34m()\u001b[0m\n\u001b[0;32m----> 1\u001b[0;31m \u001b[0mX_train\u001b[0m \u001b[0;34m=\u001b[0m \u001b[0mnp\u001b[0m\u001b[0;34m.\u001b[0m\u001b[0mstack\u001b[0m\u001b[0;34m(\u001b[0m\u001b[0mX_train\u001b[0m\u001b[0;34m,\u001b[0m \u001b[0maxis\u001b[0m\u001b[0;34m=\u001b[0m\u001b[0;36m0\u001b[0m\u001b[0;34m)\u001b[0m  \u001b[0;31m# Adjust axis if needed\u001b[0m\u001b[0;34m\u001b[0m\u001b[0;34m\u001b[0m\u001b[0m\n\u001b[0m\u001b[1;32m      2\u001b[0m \u001b[0my\u001b[0m \u001b[0;34m=\u001b[0m \u001b[0mnp\u001b[0m\u001b[0;34m.\u001b[0m\u001b[0marray\u001b[0m\u001b[0;34m(\u001b[0m\u001b[0my\u001b[0m\u001b[0;34m)\u001b[0m \u001b[0;31m# we don't need to do this for X because it is already a numpy array.\u001b[0m\u001b[0;34m\u001b[0m\u001b[0;34m\u001b[0m\u001b[0m\n\u001b[1;32m      3\u001b[0m \u001b[0;34m\u001b[0m\u001b[0m\n\u001b[1;32m      4\u001b[0m \u001b[0;31m# Split data into training and testing sets\u001b[0m\u001b[0;34m\u001b[0m\u001b[0;34m\u001b[0m\u001b[0m\n\u001b[1;32m      5\u001b[0m X_train, X_test, y_train, y_test = train_test_split(X, y, test_size=0.2,\n",
            "\u001b[0;32m/usr/local/lib/python3.10/dist-packages/numpy/core/shape_base.py\u001b[0m in \u001b[0;36mstack\u001b[0;34m(arrays, axis, out, dtype, casting)\u001b[0m\n\u001b[1;32m    447\u001b[0m     \u001b[0mshapes\u001b[0m \u001b[0;34m=\u001b[0m \u001b[0;34m{\u001b[0m\u001b[0marr\u001b[0m\u001b[0;34m.\u001b[0m\u001b[0mshape\u001b[0m \u001b[0;32mfor\u001b[0m \u001b[0marr\u001b[0m \u001b[0;32min\u001b[0m \u001b[0marrays\u001b[0m\u001b[0;34m}\u001b[0m\u001b[0;34m\u001b[0m\u001b[0;34m\u001b[0m\u001b[0m\n\u001b[1;32m    448\u001b[0m     \u001b[0;32mif\u001b[0m \u001b[0mlen\u001b[0m\u001b[0;34m(\u001b[0m\u001b[0mshapes\u001b[0m\u001b[0;34m)\u001b[0m \u001b[0;34m!=\u001b[0m \u001b[0;36m1\u001b[0m\u001b[0;34m:\u001b[0m\u001b[0;34m\u001b[0m\u001b[0;34m\u001b[0m\u001b[0m\n\u001b[0;32m--> 449\u001b[0;31m         \u001b[0;32mraise\u001b[0m \u001b[0mValueError\u001b[0m\u001b[0;34m(\u001b[0m\u001b[0;34m'all input arrays must have the same shape'\u001b[0m\u001b[0;34m)\u001b[0m\u001b[0;34m\u001b[0m\u001b[0;34m\u001b[0m\u001b[0m\n\u001b[0m\u001b[1;32m    450\u001b[0m \u001b[0;34m\u001b[0m\u001b[0m\n\u001b[1;32m    451\u001b[0m     \u001b[0mresult_ndim\u001b[0m \u001b[0;34m=\u001b[0m \u001b[0marrays\u001b[0m\u001b[0;34m[\u001b[0m\u001b[0;36m0\u001b[0m\u001b[0;34m]\u001b[0m\u001b[0;34m.\u001b[0m\u001b[0mndim\u001b[0m \u001b[0;34m+\u001b[0m \u001b[0;36m1\u001b[0m\u001b[0;34m\u001b[0m\u001b[0;34m\u001b[0m\u001b[0m\n",
            "\u001b[0;31mValueError\u001b[0m: all input arrays must have the same shape"
          ]
        }
      ]
    },
    {
      "cell_type": "markdown",
      "source": [
        "Now begins the easy part: building the model. Let's import some specific keras libraries."
      ],
      "metadata": {
        "id": "g0H0t0QYydMe"
      }
    },
    {
      "cell_type": "code",
      "source": [
        "from tensorflow.keras.models import Sequential\n",
        "from tensorflow.keras.layers import Dense, Dropout, Flatten"
      ],
      "metadata": {
        "id": "j4z6--me2m2o"
      },
      "execution_count": 8,
      "outputs": []
    },
    {
      "cell_type": "code",
      "source": [],
      "metadata": {
        "colab": {
          "base_uri": "https://localhost:8080/",
          "height": 211
        },
        "id": "i2SguhlnLHtL",
        "outputId": "d8c022bc-1b74-4a57-e128-3fc6f526f60b"
      },
      "execution_count": 1,
      "outputs": [
        {
          "output_type": "error",
          "ename": "NameError",
          "evalue": "name 'X_train' is not defined",
          "traceback": [
            "\u001b[0;31m---------------------------------------------------------------------------\u001b[0m",
            "\u001b[0;31mNameError\u001b[0m                                 Traceback (most recent call last)",
            "\u001b[0;32m<ipython-input-1-b6cc39de7e31>\u001b[0m in \u001b[0;36m<cell line: 4>\u001b[0;34m()\u001b[0m\n\u001b[1;32m      2\u001b[0m \u001b[0;34m\u001b[0m\u001b[0m\n\u001b[1;32m      3\u001b[0m \u001b[0;31m# Determine the maximum length\u001b[0m\u001b[0;34m\u001b[0m\u001b[0;34m\u001b[0m\u001b[0m\n\u001b[0;32m----> 4\u001b[0;31m \u001b[0mmax_len\u001b[0m \u001b[0;34m=\u001b[0m \u001b[0mmax\u001b[0m\u001b[0;34m(\u001b[0m\u001b[0;34m[\u001b[0m\u001b[0mx\u001b[0m\u001b[0;34m.\u001b[0m\u001b[0mshape\u001b[0m\u001b[0;34m[\u001b[0m\u001b[0;36m1\u001b[0m\u001b[0;34m]\u001b[0m \u001b[0;32mfor\u001b[0m \u001b[0mx\u001b[0m \u001b[0;32min\u001b[0m \u001b[0mX_train\u001b[0m\u001b[0;34m]\u001b[0m\u001b[0;34m)\u001b[0m\u001b[0;34m\u001b[0m\u001b[0;34m\u001b[0m\u001b[0m\n\u001b[0m\u001b[1;32m      5\u001b[0m \u001b[0;34m\u001b[0m\u001b[0m\n\u001b[1;32m      6\u001b[0m \u001b[0;31m# Create a padded array with zeros\u001b[0m\u001b[0;34m\u001b[0m\u001b[0;34m\u001b[0m\u001b[0m\n",
            "\u001b[0;31mNameError\u001b[0m: name 'X_train' is not defined"
          ]
        }
      ]
    },
    {
      "cell_type": "markdown",
      "source": [
        "Let's create our model and compile it."
      ],
      "metadata": {
        "id": "p2ZyVVJg2z0z"
      }
    },
    {
      "cell_type": "code",
      "source": [
        "num_classes = len(np.unique(y))\n",
        "model = Sequential([\n",
        "  Flatten(input_shape=X_train[0].shape),  # Flatten the input\n",
        "  Dense(128, activation='relu'),\n",
        "  Dropout(0.2),\n",
        "  Dense(num_classes, activation='softmax')  # Output layer\n",
        "])\n",
        "\n",
        "model.compile(loss='categorical_crossentropy', optimizer='adam', metrics=['accuracy'])"
      ],
      "metadata": {
        "colab": {
          "base_uri": "https://localhost:8080/"
        },
        "id": "CUiHbrhA23NC",
        "outputId": "e81c1fc3-19db-46f5-a37f-e3e16d8c1195"
      },
      "execution_count": 13,
      "outputs": [
        {
          "output_type": "stream",
          "name": "stderr",
          "text": [
            "/usr/local/lib/python3.10/dist-packages/keras/src/layers/reshaping/flatten.py:37: UserWarning: Do not pass an `input_shape`/`input_dim` argument to a layer. When using Sequential models, prefer using an `Input(shape)` object as the first layer in the model instead.\n",
            "  super().__init__(**kwargs)\n"
          ]
        }
      ]
    },
    {
      "cell_type": "markdown",
      "source": [
        "Now, we start training on the datasets we spent so long creating. This step will take a while."
      ],
      "metadata": {
        "id": "iXFvgje-29rm"
      }
    },
    {
      "cell_type": "code",
      "source": [
        "model.fit(X_train, y_train, epochs=10, batch_size=32, validation_data=(X_test, y_test))"
      ],
      "metadata": {
        "colab": {
          "base_uri": "https://localhost:8080/",
          "height": 321
        },
        "id": "V0P_kzd33HbQ",
        "outputId": "6a134e47-6bb4-4cb1-d2ad-d34834ea9ca9"
      },
      "execution_count": 14,
      "outputs": [
        {
          "output_type": "error",
          "ename": "ValueError",
          "evalue": "Data cardinality is ambiguous. Make sure all arrays contain the same number of samples.'x' sizes: 40, 40, 40, 40, 40, 40, 40, 40, 40, 40, 40, 40, 40, 40, 40, 40, 40, 40, 40, 40, 40, 40, 40, 40, 40, 40, 40, 40, 40, 40, 40, 40, 40, 40, 40, 40, 40, 40, 40, 40, 40, 40, 40, 40, 40, 40, 40, 40, 40, 40, 40, 40, 40, 40, 40, 40, 40, 40, 40, 40, 40, 40, 40, 40, 40, 40, 40, 40, 40, 40, 40, 40, 40, 40, 40, 40, 40, 40, 40, 40, 40, 40, 40, 40, 40, 40, 40, 40, 40, 40, 40, 40, 40, 40, 40, 40\n'y' sizes: 96\n",
          "traceback": [
            "\u001b[0;31m---------------------------------------------------------------------------\u001b[0m",
            "\u001b[0;31mValueError\u001b[0m                                Traceback (most recent call last)",
            "\u001b[0;32m<ipython-input-14-6f8ec71a7b2e>\u001b[0m in \u001b[0;36m<cell line: 1>\u001b[0;34m()\u001b[0m\n\u001b[0;32m----> 1\u001b[0;31m \u001b[0mmodel\u001b[0m\u001b[0;34m.\u001b[0m\u001b[0mfit\u001b[0m\u001b[0;34m(\u001b[0m\u001b[0mX_train\u001b[0m\u001b[0;34m,\u001b[0m \u001b[0my_train\u001b[0m\u001b[0;34m,\u001b[0m \u001b[0mepochs\u001b[0m\u001b[0;34m=\u001b[0m\u001b[0;36m10\u001b[0m\u001b[0;34m,\u001b[0m \u001b[0mbatch_size\u001b[0m\u001b[0;34m=\u001b[0m\u001b[0;36m32\u001b[0m\u001b[0;34m,\u001b[0m \u001b[0mvalidation_data\u001b[0m\u001b[0;34m=\u001b[0m\u001b[0;34m(\u001b[0m\u001b[0mX_test\u001b[0m\u001b[0;34m,\u001b[0m \u001b[0my_test\u001b[0m\u001b[0;34m)\u001b[0m\u001b[0;34m)\u001b[0m\u001b[0;34m\u001b[0m\u001b[0;34m\u001b[0m\u001b[0m\n\u001b[0m",
            "\u001b[0;32m/usr/local/lib/python3.10/dist-packages/keras/src/utils/traceback_utils.py\u001b[0m in \u001b[0;36merror_handler\u001b[0;34m(*args, **kwargs)\u001b[0m\n\u001b[1;32m    120\u001b[0m             \u001b[0;31m# To get the full stack trace, call:\u001b[0m\u001b[0;34m\u001b[0m\u001b[0;34m\u001b[0m\u001b[0m\n\u001b[1;32m    121\u001b[0m             \u001b[0;31m# `keras.config.disable_traceback_filtering()`\u001b[0m\u001b[0;34m\u001b[0m\u001b[0;34m\u001b[0m\u001b[0m\n\u001b[0;32m--> 122\u001b[0;31m             \u001b[0;32mraise\u001b[0m \u001b[0me\u001b[0m\u001b[0;34m.\u001b[0m\u001b[0mwith_traceback\u001b[0m\u001b[0;34m(\u001b[0m\u001b[0mfiltered_tb\u001b[0m\u001b[0;34m)\u001b[0m \u001b[0;32mfrom\u001b[0m \u001b[0;32mNone\u001b[0m\u001b[0;34m\u001b[0m\u001b[0;34m\u001b[0m\u001b[0m\n\u001b[0m\u001b[1;32m    123\u001b[0m         \u001b[0;32mfinally\u001b[0m\u001b[0;34m:\u001b[0m\u001b[0;34m\u001b[0m\u001b[0;34m\u001b[0m\u001b[0m\n\u001b[1;32m    124\u001b[0m             \u001b[0;32mdel\u001b[0m \u001b[0mfiltered_tb\u001b[0m\u001b[0;34m\u001b[0m\u001b[0;34m\u001b[0m\u001b[0m\n",
            "\u001b[0;32m/usr/local/lib/python3.10/dist-packages/keras/src/trainers/data_adapters/data_adapter_utils.py\u001b[0m in \u001b[0;36mcheck_data_cardinality\u001b[0;34m(data)\u001b[0m\n\u001b[1;32m    112\u001b[0m             )\n\u001b[1;32m    113\u001b[0m             \u001b[0mmsg\u001b[0m \u001b[0;34m+=\u001b[0m \u001b[0;34mf\"'{label}' sizes: {sizes}\\n\"\u001b[0m\u001b[0;34m\u001b[0m\u001b[0;34m\u001b[0m\u001b[0m\n\u001b[0;32m--> 114\u001b[0;31m         \u001b[0;32mraise\u001b[0m \u001b[0mValueError\u001b[0m\u001b[0;34m(\u001b[0m\u001b[0mmsg\u001b[0m\u001b[0;34m)\u001b[0m\u001b[0;34m\u001b[0m\u001b[0;34m\u001b[0m\u001b[0m\n\u001b[0m\u001b[1;32m    115\u001b[0m \u001b[0;34m\u001b[0m\u001b[0m\n\u001b[1;32m    116\u001b[0m \u001b[0;34m\u001b[0m\u001b[0m\n",
            "\u001b[0;31mValueError\u001b[0m: Data cardinality is ambiguous. Make sure all arrays contain the same number of samples.'x' sizes: 40, 40, 40, 40, 40, 40, 40, 40, 40, 40, 40, 40, 40, 40, 40, 40, 40, 40, 40, 40, 40, 40, 40, 40, 40, 40, 40, 40, 40, 40, 40, 40, 40, 40, 40, 40, 40, 40, 40, 40, 40, 40, 40, 40, 40, 40, 40, 40, 40, 40, 40, 40, 40, 40, 40, 40, 40, 40, 40, 40, 40, 40, 40, 40, 40, 40, 40, 40, 40, 40, 40, 40, 40, 40, 40, 40, 40, 40, 40, 40, 40, 40, 40, 40, 40, 40, 40, 40, 40, 40, 40, 40, 40, 40, 40, 40\n'y' sizes: 96\n"
          ]
        }
      ]
    },
    {
      "cell_type": "code",
      "source": [
        "for i in range(len(X_train)):\n",
        "    print(f\"Sample {i} shape: {X_train[i].shape}\")"
      ],
      "metadata": {
        "colab": {
          "base_uri": "https://localhost:8080/"
        },
        "id": "d8MuN1Sc3Ujp",
        "outputId": "cb969873-ef8a-4a47-9ec6-850d9a7d03bb"
      },
      "execution_count": 24,
      "outputs": [
        {
          "output_type": "stream",
          "name": "stdout",
          "text": [
            "Sample 0 shape: (40, 363)\n",
            "Sample 1 shape: (40, 338)\n",
            "Sample 2 shape: (40, 326)\n",
            "Sample 3 shape: (40, 329)\n",
            "Sample 4 shape: (40, 313)\n",
            "Sample 5 shape: (40, 388)\n",
            "Sample 6 shape: (40, 335)\n",
            "Sample 7 shape: (40, 332)\n",
            "Sample 8 shape: (40, 310)\n",
            "Sample 9 shape: (40, 320)\n",
            "Sample 10 shape: (40, 304)\n",
            "Sample 11 shape: (40, 357)\n",
            "Sample 12 shape: (40, 420)\n",
            "Sample 13 shape: (40, 341)\n",
            "Sample 14 shape: (40, 457)\n",
            "Sample 15 shape: (40, 351)\n",
            "Sample 16 shape: (40, 366)\n",
            "Sample 17 shape: (40, 335)\n",
            "Sample 18 shape: (40, 351)\n",
            "Sample 19 shape: (40, 310)\n",
            "Sample 20 shape: (40, 392)\n",
            "Sample 21 shape: (40, 335)\n",
            "Sample 22 shape: (40, 348)\n",
            "Sample 23 shape: (40, 420)\n",
            "Sample 24 shape: (40, 326)\n",
            "Sample 25 shape: (40, 388)\n",
            "Sample 26 shape: (40, 363)\n",
            "Sample 27 shape: (40, 323)\n",
            "Sample 28 shape: (40, 313)\n",
            "Sample 29 shape: (40, 357)\n",
            "Sample 30 shape: (40, 332)\n",
            "Sample 31 shape: (40, 341)\n",
            "Sample 32 shape: (40, 351)\n",
            "Sample 33 shape: (40, 348)\n",
            "Sample 34 shape: (40, 338)\n",
            "Sample 35 shape: (40, 351)\n",
            "Sample 36 shape: (40, 310)\n",
            "Sample 37 shape: (40, 357)\n",
            "Sample 38 shape: (40, 360)\n",
            "Sample 39 shape: (40, 323)\n",
            "Sample 40 shape: (40, 348)\n",
            "Sample 41 shape: (40, 326)\n",
            "Sample 42 shape: (40, 341)\n",
            "Sample 43 shape: (40, 335)\n",
            "Sample 44 shape: (40, 335)\n",
            "Sample 45 shape: (40, 329)\n",
            "Sample 46 shape: (40, 392)\n",
            "Sample 47 shape: (40, 320)\n",
            "Sample 48 shape: (40, 357)\n",
            "Sample 49 shape: (40, 329)\n",
            "Sample 50 shape: (40, 329)\n",
            "Sample 51 shape: (40, 332)\n",
            "Sample 52 shape: (40, 329)\n",
            "Sample 53 shape: (40, 357)\n",
            "Sample 54 shape: (40, 351)\n",
            "Sample 55 shape: (40, 426)\n",
            "Sample 56 shape: (40, 373)\n",
            "Sample 57 shape: (40, 360)\n",
            "Sample 58 shape: (40, 304)\n",
            "Sample 59 shape: (40, 360)\n",
            "Sample 60 shape: (40, 366)\n",
            "Sample 61 shape: (40, 401)\n",
            "Sample 62 shape: (40, 457)\n",
            "Sample 63 shape: (40, 395)\n",
            "Sample 64 shape: (40, 401)\n",
            "Sample 65 shape: (40, 320)\n",
            "Sample 66 shape: (40, 326)\n",
            "Sample 67 shape: (40, 363)\n",
            "Sample 68 shape: (40, 326)\n",
            "Sample 69 shape: (40, 320)\n",
            "Sample 70 shape: (40, 335)\n",
            "Sample 71 shape: (40, 395)\n",
            "Sample 72 shape: (40, 388)\n",
            "Sample 73 shape: (40, 385)\n",
            "Sample 74 shape: (40, 329)\n",
            "Sample 75 shape: (40, 360)\n",
            "Sample 76 shape: (40, 326)\n",
            "Sample 77 shape: (40, 373)\n",
            "Sample 78 shape: (40, 329)\n",
            "Sample 79 shape: (40, 310)\n",
            "Sample 80 shape: (40, 348)\n",
            "Sample 81 shape: (40, 388)\n",
            "Sample 82 shape: (40, 357)\n",
            "Sample 83 shape: (40, 395)\n",
            "Sample 84 shape: (40, 329)\n",
            "Sample 85 shape: (40, 345)\n",
            "Sample 86 shape: (40, 310)\n",
            "Sample 87 shape: (40, 320)\n",
            "Sample 88 shape: (40, 351)\n",
            "Sample 89 shape: (40, 332)\n",
            "Sample 90 shape: (40, 360)\n",
            "Sample 91 shape: (40, 426)\n",
            "Sample 92 shape: (40, 329)\n",
            "Sample 93 shape: (40, 363)\n",
            "Sample 94 shape: (40, 329)\n",
            "Sample 95 shape: (40, 363)\n"
          ]
        }
      ]
    },
    {
      "cell_type": "code",
      "source": [
        "import numpy as np\n",
        "\n",
        "# Determine the maximum length\n",
        "max_len = max([x.shape[1] for x in X_train])\n",
        "\n",
        "# Create a padded array with zeros\n",
        "X_padded = np.zeros((len(X_train), max_len))\n",
        "\n",
        "# Fill the padded array with data\n",
        "for i, x in enumerate(X_train):\n",
        "    X_padded[i, :x.shape[1]] = x\n",
        "\n",
        "# Now X_padded is a NumPy array with consistent shape\n",
        "X_train = X_padded"
      ],
      "metadata": {
        "colab": {
          "base_uri": "https://localhost:8080/",
          "height": 211
        },
        "id": "xKb-xOGDLMl3",
        "outputId": "9afe903f-63c5-443d-ae74-a1abb2d27da5"
      },
      "execution_count": 2,
      "outputs": [
        {
          "output_type": "error",
          "ename": "NameError",
          "evalue": "name 'X_train' is not defined",
          "traceback": [
            "\u001b[0;31m---------------------------------------------------------------------------\u001b[0m",
            "\u001b[0;31mNameError\u001b[0m                                 Traceback (most recent call last)",
            "\u001b[0;32m<ipython-input-2-b6cc39de7e31>\u001b[0m in \u001b[0;36m<cell line: 4>\u001b[0;34m()\u001b[0m\n\u001b[1;32m      2\u001b[0m \u001b[0;34m\u001b[0m\u001b[0m\n\u001b[1;32m      3\u001b[0m \u001b[0;31m# Determine the maximum length\u001b[0m\u001b[0;34m\u001b[0m\u001b[0;34m\u001b[0m\u001b[0m\n\u001b[0;32m----> 4\u001b[0;31m \u001b[0mmax_len\u001b[0m \u001b[0;34m=\u001b[0m \u001b[0mmax\u001b[0m\u001b[0;34m(\u001b[0m\u001b[0;34m[\u001b[0m\u001b[0mx\u001b[0m\u001b[0;34m.\u001b[0m\u001b[0mshape\u001b[0m\u001b[0;34m[\u001b[0m\u001b[0;36m1\u001b[0m\u001b[0;34m]\u001b[0m \u001b[0;32mfor\u001b[0m \u001b[0mx\u001b[0m \u001b[0;32min\u001b[0m \u001b[0mX_train\u001b[0m\u001b[0;34m]\u001b[0m\u001b[0;34m)\u001b[0m\u001b[0;34m\u001b[0m\u001b[0;34m\u001b[0m\u001b[0m\n\u001b[0m\u001b[1;32m      5\u001b[0m \u001b[0;34m\u001b[0m\u001b[0m\n\u001b[1;32m      6\u001b[0m \u001b[0;31m# Create a padded array with zeros\u001b[0m\u001b[0;34m\u001b[0m\u001b[0;34m\u001b[0m\u001b[0m\n",
            "\u001b[0;31mNameError\u001b[0m: name 'X_train' is not defined"
          ]
        }
      ]
    },
    {
      "cell_type": "markdown",
      "source": [],
      "metadata": {
        "id": "4Yo5CveULMWm"
      }
    }
  ]
}