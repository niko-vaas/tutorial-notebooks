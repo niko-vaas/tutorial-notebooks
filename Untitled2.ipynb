{
  "nbformat": 4,
  "nbformat_minor": 0,
  "metadata": {
    "colab": {
      "provenance": [],
      "authorship_tag": "ABX9TyPnDkhEDHMSa1fEtJoUyB7O",
      "include_colab_link": true
    },
    "kernelspec": {
      "name": "python3",
      "display_name": "Python 3"
    },
    "language_info": {
      "name": "python"
    }
  },
  "cells": [
    {
      "cell_type": "markdown",
      "metadata": {
        "id": "view-in-github",
        "colab_type": "text"
      },
      "source": [
        "<a href=\"https://colab.research.google.com/github/niko-vaas/tutorial-notebooks/blob/main/Untitled2.ipynb\" target=\"_parent\"><img src=\"https://colab.research.google.com/assets/colab-badge.svg\" alt=\"Open In Colab\"/></a>"
      ]
    },
    {
      "cell_type": "markdown",
      "source": [
        "Let's start by allowing access to our Google Drive, where I put the [RAVDESS dataset](https://zenodo.org/records/1188976#.XvD_1mj0nD4). You may get a popup asking for permission to modify your Google Drive."
      ],
      "metadata": {
        "id": "c5xCkzVjnmBy"
      }
    },
    {
      "cell_type": "code",
      "execution_count": 2,
      "metadata": {
        "colab": {
          "base_uri": "https://localhost:8080/"
        },
        "id": "bjXs5iEondKe",
        "outputId": "ebb866a1-e9f0-47f0-b199-9fc35228b29c"
      },
      "outputs": [
        {
          "output_type": "stream",
          "name": "stdout",
          "text": [
            "Mounted at /content/drive\n"
          ]
        }
      ],
      "source": [
        "from google.colab import drive\n",
        "drive.mount('/content/drive')"
      ]
    },
    {
      "cell_type": "markdown",
      "source": [
        "Now, let's import all libaries we need."
      ],
      "metadata": {
        "id": "0bw9JURTocHG"
      }
    },
    {
      "cell_type": "code",
      "source": [
        "import os\n",
        "import librosa\n",
        "import numpy as np\n",
        "import pandas as pd\n",
        "from sklearn.model_selection import train_test_split\n",
        "import tensorflow as tf"
      ],
      "metadata": {
        "id": "_U4jA5FGpVTJ"
      },
      "execution_count": 3,
      "outputs": []
    },
    {
      "cell_type": "markdown",
      "source": [
        "Now, we add our dataset and create a loader function that will load audio from my Google Drive and extract data from it."
      ],
      "metadata": {
        "id": "oYoKqatYpcEJ"
      }
    },
    {
      "cell_type": "code",
      "source": [
        "data_dir = '/content/drive/MyDrive/RAVDESS'\n",
        "\n",
        "def load_audio_file(file_path):\n",
        "  # Load the audio file\n",
        "  audio, sample_rate = librosa.load(file_path, sr=None)\n",
        "\n",
        "  # Extract features\n",
        "  features = librosa.feature.mfcc(y=audio, sr=sample_rate, n_mfcc=40)\n",
        "  return features"
      ],
      "metadata": {
        "id": "Xz5ltv-fp0U6"
      },
      "execution_count": 4,
      "outputs": []
    },
    {
      "cell_type": "markdown",
      "source": [
        "I'm going to generate a CSV of the file structure of the dataset. It's going to look like this:\n",
        "\n",
        "```\n",
        "| File Path | Emotion |\n",
        "| --------- | ------- |\n",
        "|audio1.wav | Happy   |\n",
        "...etc.\n",
        "```\n",
        "\n",
        "The following code loads it and makes it easy for us to use."
      ],
      "metadata": {
        "id": "qMAVABz1rdjj"
      }
    },
    {
      "cell_type": "code",
      "source": [
        "def generate_ravdess_csv(dir_list):\n",
        "  data = []\n",
        "  for parent_dir in dir_list:\n",
        "    for root, dirs, files in os.walk(parent_dir):\n",
        "      for file in files:\n",
        "        if file.endswith(\".wav\"):\n",
        "          filename = file[:-4]  # Remove .wav extension\n",
        "          parts = filename.split('-')\n",
        "          modality, vocal_channel, emotion, intensity, statement, repetition, actor = map(int, parts)\n",
        "\n",
        "        # Determine emotion and intensity label\n",
        "        emotion_map = {\n",
        "          1: \"neutral\",\n",
        "          2: \"calm\",\n",
        "          3: \"happy\",\n",
        "          4: \"sad\",\n",
        "          5: \"angry\",\n",
        "          6: \"fearful\",\n",
        "          7: \"disgust\",\n",
        "          8: \"surprised\"\n",
        "        }\n",
        "        intensity_map = {\n",
        "          1: \"\",\n",
        "          2: \"strongly \"\n",
        "        }\n",
        "        emotion_label = intensity_map[intensity] + emotion_map[emotion]\n",
        "\n",
        "        data.append({\n",
        "            \"file_path\": os.path.join(root, file),\n",
        "            \"emotion\": emotion_label\n",
        "        })\n",
        "\n",
        "  # Create DataFrame and return\n",
        "  df = pd.DataFrame(data)\n",
        "  return df\n",
        "\n",
        "if __name__ == \"__main__\":\n",
        "  dir_list = [\"/content/drive/My Drive/Corpora/RAVDESS/Actor_10\", \"/content/drive/My Drive/Corpora/RAVDESS/Actor_10\"]\n",
        "  df = generate_ravdess_csv(dir_list)\n",
        "  df.to_csv(\"ravdess_data.csv\", index=False)\n",
        "\n",
        "data = pd.read_csv('ravdess_data.csv')"
      ],
      "metadata": {
        "id": "EnSdTV95sDMF"
      },
      "execution_count": 8,
      "outputs": []
    },
    {
      "cell_type": "markdown",
      "source": [
        "Now, let's create the datasets to train our model. This step will take a while, as we are quite literally loading every single audio file in the >500 Mb folder."
      ],
      "metadata": {
        "id": "mmqt8OQAuj37"
      }
    },
    {
      "cell_type": "code",
      "source": [
        "X = []\n",
        "y = []\n",
        "\n",
        "for index, row in data.iterrows():\n",
        "  file_path = row['file_path']\n",
        "  emotion = row['emotion']\n",
        "  features = load_audio_file(file_path)\n",
        "  X.append(features)\n",
        "  y.append(emotion)"
      ],
      "metadata": {
        "id": "Po5xUxEEJS7u"
      },
      "execution_count": 9,
      "outputs": []
    },
    {
      "cell_type": "markdown",
      "source": [
        "Now, we split these sets into training and testing sets."
      ],
      "metadata": {
        "id": "cCp22qWAuyeZ"
      }
    },
    {
      "cell_type": "code",
      "source": [
        "X = np.array(X)\n",
        "y = np.array(y)\n",
        "\n",
        "# Convert emotions to categorical labels\n",
        "num_classes = len(np.unique(y))\n",
        "y = to_categorical(y, num_classes)\n",
        "\n",
        "# Split data into training and testing sets\n",
        "X_train, X_test, y_train, y_test = train_test_split(X, y, test_size=0.2,\n",
        " random_state=42)"
      ],
      "metadata": {
        "colab": {
          "base_uri": "https://localhost:8080/",
          "height": 211
        },
        "id": "kovBA35Nu-QC",
        "outputId": "9735fe50-7eaa-440b-9755-eeb66db1a7cc"
      },
      "execution_count": 13,
      "outputs": [
        {
          "output_type": "error",
          "ename": "ValueError",
          "evalue": "setting an array element with a sequence. The requested array has an inhomogeneous shape after 2 dimensions. The detected shape was (120, 40) + inhomogeneous part.",
          "traceback": [
            "\u001b[0;31m---------------------------------------------------------------------------\u001b[0m",
            "\u001b[0;31mValueError\u001b[0m                                Traceback (most recent call last)",
            "\u001b[0;32m<ipython-input-13-81485349e464>\u001b[0m in \u001b[0;36m<cell line: 1>\u001b[0;34m()\u001b[0m\n\u001b[0;32m----> 1\u001b[0;31m \u001b[0mX\u001b[0m \u001b[0;34m=\u001b[0m \u001b[0mnp\u001b[0m\u001b[0;34m.\u001b[0m\u001b[0marray\u001b[0m\u001b[0;34m(\u001b[0m\u001b[0mX\u001b[0m\u001b[0;34m)\u001b[0m\u001b[0;34m\u001b[0m\u001b[0;34m\u001b[0m\u001b[0m\n\u001b[0m\u001b[1;32m      2\u001b[0m \u001b[0my\u001b[0m \u001b[0;34m=\u001b[0m \u001b[0mnp\u001b[0m\u001b[0;34m.\u001b[0m\u001b[0marray\u001b[0m\u001b[0;34m(\u001b[0m\u001b[0my\u001b[0m\u001b[0;34m)\u001b[0m\u001b[0;34m\u001b[0m\u001b[0;34m\u001b[0m\u001b[0m\n\u001b[1;32m      3\u001b[0m \u001b[0;34m\u001b[0m\u001b[0m\n\u001b[1;32m      4\u001b[0m \u001b[0;31m# Convert emotions to categorical labels\u001b[0m\u001b[0;34m\u001b[0m\u001b[0;34m\u001b[0m\u001b[0m\n\u001b[1;32m      5\u001b[0m \u001b[0mnum_classes\u001b[0m \u001b[0;34m=\u001b[0m \u001b[0mlen\u001b[0m\u001b[0;34m(\u001b[0m\u001b[0mnp\u001b[0m\u001b[0;34m.\u001b[0m\u001b[0munique\u001b[0m\u001b[0;34m(\u001b[0m\u001b[0my\u001b[0m\u001b[0;34m)\u001b[0m\u001b[0;34m)\u001b[0m\u001b[0;34m\u001b[0m\u001b[0;34m\u001b[0m\u001b[0m\n",
            "\u001b[0;31mValueError\u001b[0m: setting an array element with a sequence. The requested array has an inhomogeneous shape after 2 dimensions. The detected shape was (120, 40) + inhomogeneous part."
          ]
        }
      ]
    }
  ]
}