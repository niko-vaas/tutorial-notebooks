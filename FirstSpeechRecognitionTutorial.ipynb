{
  "nbformat": 4,
  "nbformat_minor": 0,
  "metadata": {
    "colab": {
      "provenance": []
    },
    "kernelspec": {
      "name": "python3",
      "display_name": "Python 3"
    },
    "language_info": {
      "name": "python"
    }
  },
  "cells": [
    {
      "cell_type": "markdown",
      "source": [
        "# Using SpeechRecognition to convert speech to text\n",
        "\n",
        "In this tutorial, we will detail installing a speech-to-text library and running it on an audio file to extract data.\n",
        "\n",
        "First install `SpeechRecognition` and `PyAudio` using `pip`."
      ],
      "metadata": {
        "id": "0kktcxinuf5a"
      }
    },
    {
      "cell_type": "code",
      "execution_count": null,
      "metadata": {
        "colab": {
          "base_uri": "https://localhost:8080/"
        },
        "id": "fw8YtSKouM8l",
        "outputId": "10086988-1b79-4e0b-e944-b3f5664e89b7"
      },
      "outputs": [
        {
          "output_type": "stream",
          "name": "stdout",
          "text": [
            "Requirement already satisfied: SpeechRecognition in /usr/local/lib/python3.10/dist-packages (3.10.4)\n",
            "Requirement already satisfied: requests>=2.26.0 in /usr/local/lib/python3.10/dist-packages (from SpeechRecognition) (2.31.0)\n",
            "Requirement already satisfied: typing-extensions in /usr/local/lib/python3.10/dist-packages (from SpeechRecognition) (4.12.2)\n",
            "Requirement already satisfied: charset-normalizer<4,>=2 in /usr/local/lib/python3.10/dist-packages (from requests>=2.26.0->SpeechRecognition) (3.3.2)\n",
            "Requirement already satisfied: idna<4,>=2.5 in /usr/local/lib/python3.10/dist-packages (from requests>=2.26.0->SpeechRecognition) (3.7)\n",
            "Requirement already satisfied: urllib3<3,>=1.21.1 in /usr/local/lib/python3.10/dist-packages (from requests>=2.26.0->SpeechRecognition) (2.0.7)\n",
            "Requirement already satisfied: certifi>=2017.4.17 in /usr/local/lib/python3.10/dist-packages (from requests>=2.26.0->SpeechRecognition) (2024.6.2)\n",
            "Reading package lists... Done\n",
            "Building dependency tree... Done\n",
            "Reading state information... Done\n",
            "portaudio19-dev is already the newest version (19.6.0-1.1).\n",
            "0 upgraded, 0 newly installed, 0 to remove and 45 not upgraded.\n",
            "Requirement already satisfied: pyaudio in /usr/local/lib/python3.10/dist-packages (0.2.14)\n"
          ]
        }
      ],
      "source": [
        "!pip install SpeechRecognition\n",
        "!sudo apt-get install portaudio19-dev # ubuntu-based system dependency\n",
        "!pip install pyaudio"
      ]
    },
    {
      "cell_type": "markdown",
      "source": [
        "Let's import `SpeechRecognition` and create a `Recognizer` whose methods will be used for speech-to-text."
      ],
      "metadata": {
        "id": "vo9sld0Pu_i2"
      }
    },
    {
      "cell_type": "code",
      "source": [
        "import speech_recognition as sr\n",
        "import pyaudio\n",
        "recognizer = sr.Recognizer()"
      ],
      "metadata": {
        "id": "vrq23QXcuyCz"
      },
      "execution_count": null,
      "outputs": []
    },
    {
      "cell_type": "markdown",
      "source": [
        "Let's now upload a file to convert to text. The first file I am using is a .wav file of Kanye Wests' POWER acapella.\n",
        "\n",
        "[Google Drive Folder](https://drive.google.com/drive/folders/1FFCNxg51TiUFICosmcTy56feQ9n-Occp?usp=sharing)\n",
        "\n",
        "(FYI: If you want to add your own songs, you need to trim to down to less than 10 MB for it to parse)\n",
        "\n",
        "You can put whatever file you want for transcription. For now, however, just download the file from the second link and upload it to your Colab notebook. Or, if you are running this notebook locally, just download it to the same folder as this python notebook.\n",
        "\n",
        "> Note: No matter what file you use, make sure it's in mono format, not stereo.\n",
        "\n"
      ],
      "metadata": {
        "id": "BaKrsaC1y29t"
      }
    },
    {
      "cell_type": "code",
      "source": [
        "# Replace \"POWER.wav\" with your file path\n",
        "with sr.AudioFile(\"./POWER.wav\") as source:\n",
        "    audio_file = recognizer.record(source)\n",
        "\n",
        "try:\n",
        "    text = recognizer.recognize_google(audio_file, language = 'en-US')\n",
        "    print(\"You said in the audio file: {}\".format(text))\n",
        "except sr.UnknownValueError:\n",
        "    print(\"Sorry, could not understand audio\")\n",
        "except sr.RequestError as e:\n",
        "    print(\"Could not request results from Google Speech Recognition service; {0}\".format(e))\n"
      ],
      "metadata": {
        "colab": {
          "base_uri": "https://localhost:8080/"
        },
        "id": "yX9YuZ7MzXQ3",
        "outputId": "888e4eeb-42e5-472a-e5de-469dda984ba0"
      },
      "execution_count": null,
      "outputs": [
        {
          "output_type": "stream",
          "name": "stdout",
          "text": [
            "You said in the audio file: I'm living in that 21st century doing something mean to it do it better than anybody you ever seen do is screams from the haters got a nice ring to it I guess every superhero need his theme music no one man should have all that power the clock ticking I just count the hours stop tripping up tripping off the power\n"
          ]
        }
      ]
    },
    {
      "cell_type": "markdown",
      "source": [
        "If you get something along the lines of:\n",
        "\n",
        "```\n",
        "You said in the audio file: I'm living in that 21st century doing something mean to it do it better than anybody you ever seen do is screams from the haters got a nice ring to it I guess every superhero need his theme music no one man should have all that power the clock ticking I just count the hours stop tripping up tripping off the power\n",
        "```\n",
        "\n",
        "You did it!\n"
      ],
      "metadata": {
        "id": "aU63sjqw2o9Z"
      }
    },
    {
      "cell_type": "markdown",
      "source": [
        "Now, let's try transcribing a song with background vocals.\n",
        "\n",
        "This time, I am using Devil in a New Dess by Kanye West *with* the background sound included."
      ],
      "metadata": {
        "id": "h2WhJroZ6n0G"
      }
    },
    {
      "cell_type": "code",
      "source": [
        "# Replace \"DIAND.wav\" with your file path\n",
        "with sr.AudioFile(\"./DIAND.wav\") as source:\n",
        "    audio_file = recognizer.record(source)\n",
        "\n",
        "try:\n",
        "    text = recognizer.recognize_google(audio_file, language = 'en-US')\n",
        "    print(\"You said in the audio file: {}\".format(text))\n",
        "except sr.UnknownValueError:\n",
        "    print(\"Sorry, could not understand audio\")\n",
        "except sr.RequestError as e:\n",
        "    print(\"Could not request results from Google Speech Recognition service; {0}\".format(e))\n"
      ],
      "metadata": {
        "colab": {
          "base_uri": "https://localhost:8080/"
        },
        "id": "gaNZatCh7Ls9",
        "outputId": "6faed145-f779-4dff-e044-9c6fd360c9b3"
      },
      "execution_count": null,
      "outputs": [
        {
          "output_type": "stream",
          "name": "stdout",
          "text": [
            "Sorry, could not understand audio\n"
          ]
        }
      ]
    },
    {
      "cell_type": "markdown",
      "source": [
        "If you're lucky, it will return with some garbage text: most of the time, you will get an `UnknownValueError`. This is because the beat confused the `recognize_google` method."
      ],
      "metadata": {
        "id": "Wq7u-FryAw-0"
      }
    },
    {
      "cell_type": "markdown",
      "source": [
        "There are a few more songs in the Google Drive folder that can be experimented with. Some are acapella, and some still have their beats."
      ],
      "metadata": {
        "id": "woA9Rq4FEM4O"
      }
    }
  ]
}